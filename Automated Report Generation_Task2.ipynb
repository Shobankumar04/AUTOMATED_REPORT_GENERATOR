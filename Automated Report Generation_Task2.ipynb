{
 "cells": [
  {
   "cell_type": "code",
   "execution_count": 1,
   "id": "1679eba1-868c-4772-8cfc-74bf4c63b2ee",
   "metadata": {},
   "outputs": [
    {
     "name": "stdout",
     "output_type": "stream",
     "text": [
      "Requirement already satisfied: pandas in c:\\users\\91730\\anaconda3\\lib\\site-packages (2.2.2)\n",
      "Requirement already satisfied: matplotlib in c:\\users\\91730\\anaconda3\\lib\\site-packages (3.8.4)\n",
      "Collecting reportlab\n",
      "  Downloading reportlab-4.3.1-py3-none-any.whl.metadata (1.7 kB)\n",
      "Requirement already satisfied: openpyxl in c:\\users\\91730\\anaconda3\\lib\\site-packages (3.1.2)\n",
      "Requirement already satisfied: numpy>=1.26.0 in c:\\users\\91730\\anaconda3\\lib\\site-packages (from pandas) (1.26.4)\n",
      "Requirement already satisfied: python-dateutil>=2.8.2 in c:\\users\\91730\\anaconda3\\lib\\site-packages (from pandas) (2.9.0.post0)\n",
      "Requirement already satisfied: pytz>=2020.1 in c:\\users\\91730\\anaconda3\\lib\\site-packages (from pandas) (2024.1)\n",
      "Requirement already satisfied: tzdata>=2022.7 in c:\\users\\91730\\anaconda3\\lib\\site-packages (from pandas) (2023.3)\n",
      "Requirement already satisfied: contourpy>=1.0.1 in c:\\users\\91730\\anaconda3\\lib\\site-packages (from matplotlib) (1.2.0)\n",
      "Requirement already satisfied: cycler>=0.10 in c:\\users\\91730\\anaconda3\\lib\\site-packages (from matplotlib) (0.11.0)\n",
      "Requirement already satisfied: fonttools>=4.22.0 in c:\\users\\91730\\anaconda3\\lib\\site-packages (from matplotlib) (4.51.0)\n",
      "Requirement already satisfied: kiwisolver>=1.3.1 in c:\\users\\91730\\anaconda3\\lib\\site-packages (from matplotlib) (1.4.4)\n",
      "Requirement already satisfied: packaging>=20.0 in c:\\users\\91730\\anaconda3\\lib\\site-packages (from matplotlib) (23.2)\n",
      "Requirement already satisfied: pillow>=8 in c:\\users\\91730\\anaconda3\\lib\\site-packages (from matplotlib) (10.3.0)\n",
      "Requirement already satisfied: pyparsing>=2.3.1 in c:\\users\\91730\\anaconda3\\lib\\site-packages (from matplotlib) (3.0.9)\n",
      "Requirement already satisfied: chardet in c:\\users\\91730\\anaconda3\\lib\\site-packages (from reportlab) (4.0.0)\n",
      "Requirement already satisfied: et-xmlfile in c:\\users\\91730\\anaconda3\\lib\\site-packages (from openpyxl) (1.1.0)\n",
      "Requirement already satisfied: six>=1.5 in c:\\users\\91730\\anaconda3\\lib\\site-packages (from python-dateutil>=2.8.2->pandas) (1.16.0)\n",
      "Downloading reportlab-4.3.1-py3-none-any.whl (1.9 MB)\n",
      "   ---------------------------------------- 0.0/1.9 MB ? eta -:--:--\n",
      "   ---------------------------------------- 0.0/1.9 MB ? eta -:--:--\n",
      "   ---------------------------------------- 0.0/1.9 MB ? eta -:--:--\n",
      "    --------------------------------------- 0.0/1.9 MB 393.8 kB/s eta 0:00:05\n",
      "   - -------------------------------------- 0.1/1.9 MB 655.4 kB/s eta 0:00:03\n",
      "   -- ------------------------------------- 0.1/1.9 MB 717.5 kB/s eta 0:00:03\n",
      "   --- ------------------------------------ 0.2/1.9 MB 748.1 kB/s eta 0:00:03\n",
      "   ---- ----------------------------------- 0.2/1.9 MB 808.4 kB/s eta 0:00:03\n",
      "   ----- ---------------------------------- 0.3/1.9 MB 850.6 kB/s eta 0:00:02\n",
      "   ------ --------------------------------- 0.3/1.9 MB 824.9 kB/s eta 0:00:02\n",
      "   ------- -------------------------------- 0.4/1.9 MB 928.4 kB/s eta 0:00:02\n",
      "   --------- ------------------------------ 0.4/1.9 MB 949.4 kB/s eta 0:00:02\n",
      "   ---------- ----------------------------- 0.5/1.9 MB 983.0 kB/s eta 0:00:02\n",
      "   ------------ --------------------------- 0.6/1.9 MB 1.1 MB/s eta 0:00:02\n",
      "   -------------- ------------------------- 0.7/1.9 MB 1.1 MB/s eta 0:00:02\n",
      "   --------------- ------------------------ 0.8/1.9 MB 1.2 MB/s eta 0:00:02\n",
      "   ------------------ --------------------- 0.9/1.9 MB 1.2 MB/s eta 0:00:01\n",
      "   -------------------- ------------------- 1.0/1.9 MB 1.3 MB/s eta 0:00:01\n",
      "   ---------------------- ----------------- 1.1/1.9 MB 1.3 MB/s eta 0:00:01\n",
      "   ------------------------ --------------- 1.2/1.9 MB 1.4 MB/s eta 0:00:01\n",
      "   -------------------------- ------------- 1.3/1.9 MB 1.5 MB/s eta 0:00:01\n",
      "   ---------------------------- ----------- 1.4/1.9 MB 1.5 MB/s eta 0:00:01\n",
      "   ------------------------------ --------- 1.5/1.9 MB 1.5 MB/s eta 0:00:01\n",
      "   ------------------------------- -------- 1.6/1.9 MB 1.5 MB/s eta 0:00:01\n",
      "   ---------------------------------- ----- 1.7/1.9 MB 1.6 MB/s eta 0:00:01\n",
      "   ----------------------------------- ---- 1.7/1.9 MB 1.5 MB/s eta 0:00:01\n",
      "   ------------------------------------ --- 1.8/1.9 MB 1.5 MB/s eta 0:00:01\n",
      "   ------------------------------------ --- 1.8/1.9 MB 1.5 MB/s eta 0:00:01\n",
      "   -------------------------------------- - 1.9/1.9 MB 1.5 MB/s eta 0:00:01\n",
      "   ---------------------------------------  1.9/1.9 MB 1.5 MB/s eta 0:00:01\n",
      "   ---------------------------------------- 1.9/1.9 MB 1.4 MB/s eta 0:00:00\n",
      "Installing collected packages: reportlab\n",
      "Successfully installed reportlab-4.3.1\n",
      "Note: you may need to restart the kernel to use updated packages.\n"
     ]
    }
   ],
   "source": [
    "pip install pandas matplotlib reportlab openpyxl"
   ]
  },
  {
   "cell_type": "code",
   "execution_count": 3,
   "id": "6f9a9735-efb8-4fcd-b35e-b1acfa1ada27",
   "metadata": {},
   "outputs": [],
   "source": [
    "import requests\n",
    "import pandas as pd\n",
    "import matplotlib.pyplot as plt\n",
    "from reportlab.lib.pagesizes import letter\n",
    "from reportlab.pdfgen import canvas"
   ]
  },
  {
   "cell_type": "code",
   "execution_count": 9,
   "id": "ab91aa92-a827-4929-b3ec-6fe48f2bea1d",
   "metadata": {},
   "outputs": [
    {
     "data": {
      "text/plain": [
       "<Response [200]>"
      ]
     },
     "execution_count": 9,
     "metadata": {},
     "output_type": "execute_result"
    }
   ],
   "source": [
    "url = \"https://jsonplaceholder.typicode.com/posts\"\n",
    "response = requests.get(url)\n",
    "response"
   ]
  },
  {
   "cell_type": "code",
   "execution_count": 11,
   "id": "e8bb30ed-8662-402f-8d03-4c7fa6fcdf43",
   "metadata": {},
   "outputs": [],
   "source": [
    "if response.status_code == 200:\n",
    "    data = response.json()\n",
    "else:\n",
    "    print(f\"Error: {response.status_code}\")\n",
    "    data = []\n"
   ]
  },
  {
   "cell_type": "code",
   "execution_count": 13,
   "id": "a643b726-aa11-4c96-a354-a7cfb47fbfdb",
   "metadata": {},
   "outputs": [],
   "source": [
    "df = pd.DataFrame(data)"
   ]
  },
  {
   "cell_type": "code",
   "execution_count": 15,
   "id": "2ea1836d-829a-4b51-85ba-50ab33bf61b7",
   "metadata": {},
   "outputs": [],
   "source": [
    "excel_file = \"report.xlsx\"\n",
    "df.to_excel(excel_file, index=False)"
   ]
  },
  {
   "cell_type": "code",
   "execution_count": 33,
   "id": "54a29bc6-93c4-42e7-be22-0c63e64c7723",
   "metadata": {},
   "outputs": [],
   "source": [
    "pdf_file = \"report.pdf\"\n",
    "c = canvas.Canvas(pdf_file, pagesize=letter)\n",
    "c.drawString(100, 750, \"Automated Report\")\n",
    "c.drawString(100, 730, \"Post Titles and IDs\")"
   ]
  },
  {
   "cell_type": "code",
   "execution_count": null,
   "id": "0b9057fc-b9d4-4009-be27-c1424b42b0fc",
   "metadata": {},
   "outputs": [],
   "source": [
    "y_position = 700\n",
    "for index, row in df.iterrows():\n",
    "    c.drawString(100, y_position, f\"Post ID: {row['id']}, Title: {row['title'][:30]}\")\n",
    "    y_position -= 20\n",
    "c.save()\n"
   ]
  },
  {
   "cell_type": "code",
   "execution_count": null,
   "id": "0d2e3b2e-333c-46db-ba26-911687c90d56",
   "metadata": {},
   "outputs": [],
   "source": [
    "plt.figure(figsize=(10, 6))\n",
    "plt.barh(df['id'], df['title'].str[:30], color='skyblue')\n",
    "plt.xlabel('Post Titles')\n",
    "plt.xticks(rotation=90,fontsize=6)\n",
    "plt.ylabel('Post ID')\n",
    "plt.title('Post Titles from JSONPlaceholder API')\n",
    "plt.savefig('report_plot.png')\n",
    "plt.close()"
   ]
  },
  {
   "cell_type": "code",
   "execution_count": null,
   "id": "ceab5809-195a-4b70-a2e0-97c7b1bfaf8b",
   "metadata": {},
   "outputs": [],
   "source": []
  },
  {
   "cell_type": "code",
   "execution_count": null,
   "id": "6cb08003-9e5f-42d7-b965-aaf40289740e",
   "metadata": {},
   "outputs": [],
   "source": []
  }
 ],
 "metadata": {
  "kernelspec": {
   "display_name": "Python 3 (ipykernel)",
   "language": "python",
   "name": "python3"
  },
  "language_info": {
   "codemirror_mode": {
    "name": "ipython",
    "version": 3
   },
   "file_extension": ".py",
   "mimetype": "text/x-python",
   "name": "python",
   "nbconvert_exporter": "python",
   "pygments_lexer": "ipython3",
   "version": "3.12.4"
  }
 },
 "nbformat": 4,
 "nbformat_minor": 5
}
